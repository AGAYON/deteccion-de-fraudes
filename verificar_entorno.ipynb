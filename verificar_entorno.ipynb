{
 "cells": [
  {
   "cell_type": "code",
   "execution_count": null,
   "id": "0",
   "metadata": {},
   "outputs": [],
   "source": [
    "#CODIGO DE PRUEBA DE EXTRACCIÓN CORRECTA DE DATOS "
   ]
  },
  {
   "cell_type": "code",
   "execution_count": null,
   "id": "1",
   "metadata": {},
   "outputs": [],
   "source": [
    "# Ejecutar flujo_trabajo.py\n",
    "%run \"c:/repo personal/PYTHON/deteccion de fraudes/flujo_trabajo.py\"\n",
    "# Cargar los resultados generados\n",
    "import pandas as pd\n",
    "\n",
    "# Rutas de los archivos generados\n",
    "ruta_X_train = \"outputs/X_train.csv\"\n",
    "ruta_X_test = \"outputs/X_test.csv\"\n",
    "ruta_y_train = \"outputs/y_train.csv\"\n",
    "ruta_y_test = \"outputs/y_test.csv\"\n",
    "\n",
    "# Cargar los datos divididos\n",
    "X_train = pd.read_csv(ruta_X_train)\n",
    "X_test = pd.read_csv(ruta_X_test)\n",
    "y_train = pd.read_csv(ruta_y_train)\n",
    "y_test = pd.read_csv(ruta_y_test)\n",
    "\n",
    "# Mostrar un resumen de los datos cargados\n",
    "print(\"X_train:\")\n",
    "print(X_train.head())\n",
    "print(\"\\nX_test:\")\n",
    "print(X_test.head())\n",
    "print(\"\\ny_train:\")\n",
    "print(y_train.head())\n",
    "print(\"\\ny_test:\")\n",
    "print(y_test.head())\n",
    "\n",
    "print(\"Tamaño del set de entrenamiento:\", X_train.shape)\n",
    "print(\"Distribución en entrenamiento:\\n\", y_train.value_counts(normalize=True).round(4))\n",
    "\n",
    "print(\"Tamaño del set de prueba:\", X_test.shape)\n",
    "print(\"Distribución en prueba:\\n\", y_test.value_counts(normalize=True).round(4))"
   ]
  }
 ],
 "metadata": {
  "kernelspec": {
   "display_name": "venv",
   "language": "python",
   "name": "python3"
  },
  "language_info": {
   "codemirror_mode": {
    "name": "ipython",
    "version": 3
   },
   "file_extension": ".py",
   "mimetype": "text/x-python",
   "name": "python",
   "nbconvert_exporter": "python",
   "pygments_lexer": "ipython3",
   "version": "3.12.6"
  }
 },
 "nbformat": 4,
 "nbformat_minor": 5
}
