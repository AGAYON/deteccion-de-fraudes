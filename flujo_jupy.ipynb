{
 "cells": [
  {
   "cell_type": "code",
   "execution_count": 12,
   "id": "0cff2272",
   "metadata": {},
   "outputs": [],
   "source": [
    "#Importaciones\n",
    "\n",
    "from scripts.preprocessing import load_data, get_feature_types, guardar_csv\n",
    "from scripts.preprocessing import load_data, glimpse_df\n",
    "from IPython.display import display\n",
    "from sklearn.model_selection import train_test_split\n",
    "\n"
   ]
  },
  {
   "cell_type": "code",
   "execution_count": 3,
   "id": "400f0f58",
   "metadata": {},
   "outputs": [
    {
     "name": "stdout",
     "output_type": "stream",
     "text": [
      "Cargando datos desde: data\\creditcard.csv\n",
      "Dataset cargado con forma: (284807, 31)\n",
      "Variables numéricas:   31\n",
      "Variables categóricas: 0\n",
      "Archivo guardado en: outputs/dataset_completo.csv\n"
     ]
    }
   ],
   "source": [
    "\n",
    "# Ruta a la carpeta data\n",
    "data_dir = \"data\"\n",
    "output_file = \"outputs/dataset_completo.csv\"\n",
    "\n",
    "# Cargar y procesar\n",
    "df = load_data(data_dir)\n",
    "num_vars, cat_vars = get_feature_types(df)\n",
    "guardar_csv(df, output_file)\n"
   ]
  },
  {
   "cell_type": "code",
   "execution_count": null,
   "id": "b5909278",
   "metadata": {},
   "outputs": [
    {
     "name": "stdout",
     "output_type": "stream",
     "text": [
      "Cargando datos desde: data\\creditcard.csv\n",
      "Dataset cargado con forma: (284807, 31)\n",
      "   columna     tipo  % nulos  valores únicos  \\\n",
      "0     Time  float64      0.0          124592   \n",
      "1       V1  float64      0.0          275663   \n",
      "2       V2  float64      0.0          275663   \n",
      "3       V3  float64      0.0          275663   \n",
      "4       V4  float64      0.0          275663   \n",
      "5       V5  float64      0.0          275663   \n",
      "6       V6  float64      0.0          275663   \n",
      "7       V7  float64      0.0          275663   \n",
      "8       V8  float64      0.0          275663   \n",
      "9       V9  float64      0.0          275663   \n",
      "10     V10  float64      0.0          275663   \n",
      "11     V11  float64      0.0          275663   \n",
      "12     V12  float64      0.0          275663   \n",
      "13     V13  float64      0.0          275663   \n",
      "14     V14  float64      0.0          275663   \n",
      "15     V15  float64      0.0          275663   \n",
      "16     V16  float64      0.0          275663   \n",
      "17     V17  float64      0.0          275663   \n",
      "18     V18  float64      0.0          275663   \n",
      "19     V19  float64      0.0          275663   \n",
      "20     V20  float64      0.0          275663   \n",
      "21     V21  float64      0.0          275663   \n",
      "22     V22  float64      0.0          275663   \n",
      "23     V23  float64      0.0          275663   \n",
      "24     V24  float64      0.0          275663   \n",
      "25     V25  float64      0.0          275663   \n",
      "26     V26  float64      0.0          275663   \n",
      "27     V27  float64      0.0          275663   \n",
      "28     V28  float64      0.0          275663   \n",
      "29  Amount  float64      0.0           32767   \n",
      "30   Class    int64      0.0               2   \n",
      "\n",
      "                                             ejemplos  \n",
      "0                           [0.0, 1.0, 2.0, 4.0, 7.0]  \n",
      "1   [-1.3598071336738, 1.19185711131486, -1.358354...  \n",
      "2   [-0.0727811733098497, 0.26615071205963, -1.340...  \n",
      "3   [2.53634673796914, 0.16648011335321, 1.7732093...  \n",
      "4   [1.37815522427443, 0.448154078460911, 0.379779...  \n",
      "5   [-0.338320769942518, 0.0600176492822243, -0.50...  \n",
      "6   [0.462387777762292, -0.0823608088155687, 1.800...  \n",
      "7   [0.239598554061257, -0.0788029833323113, 0.791...  \n",
      "8   [0.0986979012610507, 0.0851016549148104, 0.247...  \n",
      "9   [0.363786969611213, -0.255425128109186, -1.514...  \n",
      "10  [0.0907941719789316, -0.166974414004614, 0.207...  \n",
      "11  [-0.551599533260813, 1.61272666105479, 0.62450...  \n",
      "12  [-0.617800855762348, 1.06523531137287, 0.06608...  \n",
      "13  [-0.991389847235408, 0.48909501589608, 0.71729...  \n",
      "14  [-0.311169353699879, -0.143772296441519, -0.16...  \n",
      "15  [1.46817697209427, 0.635558093258208, 2.345864...  \n",
      "16  [-0.470400525259478, 0.463917041022171, -2.890...  \n",
      "17  [0.207971241929242, -0.114804663102346, 1.1099...  \n",
      "18  [0.0257905801985591, -0.183361270123994, -0.12...  \n",
      "19  [0.403992960255733, -0.145783041325259, -2.261...  \n",
      "20  [0.251412098239705, -0.0690831352230203, 0.524...  \n",
      "21  [-0.018306777944153, -0.225775248033138, 0.247...  \n",
      "22  [0.277837575558899, -0.638671952771851, 0.7716...  \n",
      "23  [-0.110473910188767, 0.101288021253234, 0.9094...  \n",
      "24  [0.0669280749146731, -0.339846475529127, -0.68...  \n",
      "25  [0.128539358273528, 0.167170404418143, -0.3276...  \n",
      "26  [-0.189114843888824, 0.125894532368176, -0.139...  \n",
      "27  [0.133558376740387, -0.0089830991432281, -0.05...  \n",
      "28  [-0.0210530534538215, 0.0147241691924927, -0.0...  \n",
      "29               [149.62, 2.69, 378.66, 123.5, 69.99]  \n",
      "30                                             [0, 1]  \n",
      "Index(['Time', 'V1', 'V2', 'V3', 'V4', 'V5', 'V6', 'V7', 'V8', 'V9', 'V10',\n",
      "       'V11', 'V12', 'V13', 'V14', 'V15', 'V16', 'V17', 'V18', 'V19', 'V20',\n",
      "       'V21', 'V22', 'V23', 'V24', 'V25', 'V26', 'V27', 'V28', 'Amount',\n",
      "       'Class'],\n",
      "      dtype='object')\n"
     ]
    }
   ],
   "source": [
    "#Glimpse del DF\n",
    "\n",
    "df = load_data(\"data\")\n",
    "glimpse = glimpse_df(df)\n",
    "print(glimpse)\n",
    "\n",
    "print(df.columns)\n",
    "\n",
    "print(\"Distribución de 'Class':\")\n",
    "print(df[\"Class\"].value_counts())\n",
    "\n"
   ]
  },
  {
   "cell_type": "code",
   "execution_count": null,
   "id": "476dd904",
   "metadata": {},
   "outputs": [
    {
     "name": "stdout",
     "output_type": "stream",
     "text": [
      "Distribución porcentual de 'Class':\n",
      "Class\n",
      "0    0.9983\n",
      "1    0.0017\n",
      "Name: proportion, dtype: float64\n"
     ]
    }
   ],
   "source": [
    "#ver distrubución de datos class (altamente desbalanceado)\n",
    "print(\"Distribución porcentual de 'Class':\")\n",
    "print(df[\"Class\"].value_counts(normalize=True).round(4))\n"
   ]
  },
  {
   "cell_type": "code",
   "execution_count": 9,
   "id": "2f49ed0a",
   "metadata": {},
   "outputs": [],
   "source": [
    "#dividir las columnas en X e y (predictores y target)\n",
    "X = df.drop(columns=\"Class\")\n",
    "y = df[\"Class\"]"
   ]
  },
  {
   "cell_type": "code",
   "execution_count": 13,
   "id": "39992472",
   "metadata": {},
   "outputs": [
    {
     "name": "stdout",
     "output_type": "stream",
     "text": [
      "Tamaño del set de entrenamiento: (199364, 30)\n",
      "Distribución en entrenamiento:\n",
      " Class\n",
      "0    0.9983\n",
      "1    0.0017\n",
      "Name: proportion, dtype: float64\n",
      "Tamaño del set de prueba: (85443, 30)\n",
      "Distribución en prueba:\n",
      " Class\n",
      "0    0.9983\n",
      "1    0.0017\n",
      "Name: proportion, dtype: float64\n"
     ]
    }
   ],
   "source": [
    "# Dividir los datos en 70% entrenamiento, 30% prueba\n",
    "X_train, X_test, y_train, y_test = train_test_split(\n",
    "    X, y, test_size=0.3, stratify=y, random_state=42\n",
    ")\n",
    "\n",
    "print(\"Tamaño del set de entrenamiento:\", X_train.shape)\n",
    "print(\"Distribución en entrenamiento:\\n\", y_train.value_counts(normalize=True).round(4))\n",
    "\n",
    "print(\"Tamaño del set de prueba:\", X_test.shape)\n",
    "print(\"Distribución en prueba:\\n\", y_test.value_counts(normalize=True).round(4))\n"
   ]
  }
 ],
 "metadata": {
  "kernelspec": {
   "display_name": "venv",
   "language": "python",
   "name": "python3"
  },
  "language_info": {
   "codemirror_mode": {
    "name": "ipython",
    "version": 3
   },
   "file_extension": ".py",
   "mimetype": "text/x-python",
   "name": "python",
   "nbconvert_exporter": "python",
   "pygments_lexer": "ipython3",
   "version": "3.12.6"
  }
 },
 "nbformat": 4,
 "nbformat_minor": 5
}
